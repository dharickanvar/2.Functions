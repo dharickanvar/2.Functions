{
 "cells": [
  {
   "cell_type": "code",
   "execution_count": 31,
   "id": "1f6c88f7",
   "metadata": {},
   "outputs": [],
   "source": [
    "def  Subfields():\n",
    "    print(\"Sub-fields in AI are:\")\n",
    "    lists=[\"Machine Learning\",\"Neural Networks\",\"Vision\",\"Robotics\",\"Speech Processing\",\"Natural Language Processing\"]\n",
    "    for temp in lists:\n",
    "     print(temp)"
   ]
  },
  {
   "cell_type": "code",
   "execution_count": 32,
   "id": "c016a4e7",
   "metadata": {},
   "outputs": [
    {
     "name": "stdout",
     "output_type": "stream",
     "text": [
      "Sub-fields in AI are:\n",
      "Machine Learning\n",
      "Neural Networks\n",
      "Vision\n",
      "Robotics\n",
      "Speech Processing\n",
      "Natural Language Processing\n"
     ]
    }
   ],
   "source": [
    " Subfields()"
   ]
  },
  {
   "cell_type": "code",
   "execution_count": 52,
   "id": "2eb8e3a5",
   "metadata": {},
   "outputs": [],
   "source": [
    "def Oddeven():\n",
    "    num=int(input(\"enter the number:\"))\n",
    "    if((num%2)==0):\n",
    "     print(num,\" is a Even number\")\n",
    "    else:\n",
    "     print(num,\" is a odd number\")"
   ]
  },
  {
   "cell_type": "code",
   "execution_count": 53,
   "id": "ce33395b",
   "metadata": {},
   "outputs": [
    {
     "name": "stdout",
     "output_type": "stream",
     "text": [
      "enter the number:4\n",
      "4  is a Even number\n"
     ]
    }
   ],
   "source": [
    "Oddeven()"
   ]
  },
  {
   "cell_type": "code",
   "execution_count": 67,
   "id": "cf26f826",
   "metadata": {},
   "outputs": [],
   "source": [
    "def Eligible():\n",
    "    temp=input(\"Your Gender:\")\n",
    "    temp2=int(input(\"Your Age:\"))\n",
    "    if(temp2<=18):\n",
    "        print(\"NOT ELIGIBLE\")\n",
    "    else:\n",
    "         print(\"Eligible\")"
   ]
  },
  {
   "cell_type": "code",
   "execution_count": 68,
   "id": "0df21030",
   "metadata": {},
   "outputs": [
    {
     "name": "stdout",
     "output_type": "stream",
     "text": [
      "Your Gender:Male\n",
      "Your Age:18\n",
      "NOT ELIGIBLE\n"
     ]
    }
   ],
   "source": [
    "Eligible()"
   ]
  },
  {
   "cell_type": "code",
   "execution_count": 93,
   "id": "89636b48",
   "metadata": {},
   "outputs": [],
   "source": [
    "def percentage():\n",
    "    num1=int(input(\"Subject1= \"))\n",
    "    num2=int(input(\"Subject2= \"))\n",
    "    num3=int(input(\"Subject3= \"))\n",
    "    num4=int(input(\"Subject4= \"))\n",
    "    num5=int(input(\"Subject5= \"))\n",
    "    Total= num1+num2+num3+num4+num5\n",
    "    print(\"Total:\",num1+num2+num3+num4+num5)\n",
    "    percentage = (Total/500)*100\n",
    "    print(\"percentage:\",percentage)"
   ]
  },
  {
   "cell_type": "code",
   "execution_count": 94,
   "id": "013c0dfc",
   "metadata": {},
   "outputs": [
    {
     "name": "stdout",
     "output_type": "stream",
     "text": [
      "Subject1= 23\n",
      "Subject2= 45\n",
      "Subject3= 34\n",
      "Subject4= 23\n",
      "Subject5= 23\n",
      "Total: 148\n",
      "percentage: 29.599999999999998\n"
     ]
    }
   ],
   "source": [
    "percentage()"
   ]
  },
  {
   "cell_type": "code",
   "execution_count": 136,
   "id": "f783b832",
   "metadata": {},
   "outputs": [],
   "source": [
    "def triangle():\n",
    "    num1=int(input(\"Height:\"))\n",
    "    num2=int(input(\"Breadth:\"))\n",
    "    print(\"Area formula: (Height*Breadth)/2\")\n",
    "    num3=(num1*num2)/2\n",
    "    print(\"Area of Triangle:\", num3)\n",
    "    num4=int(input(\"Height1:\"))\n",
    "    num5=int(input(\"Height2:\"))\n",
    "    num6=int(input(\"Breadth:\"))\n",
    "    print(\"Perimeter formula: Height1+Height2+Breadth\")\n",
    "    num7=num4+num5+num6\n",
    "    print(\"Perimeter of Triangle:\" , num7)\n",
    "    \n",
    "    \n",
    "        "
   ]
  },
  {
   "cell_type": "code",
   "execution_count": 138,
   "id": "71f02dae",
   "metadata": {},
   "outputs": [
    {
     "name": "stdout",
     "output_type": "stream",
     "text": [
      "Height:3\n",
      "Breadth:4\n",
      "Area formula: (Height*Breadth)/2\n",
      "Area of Triangle: 6.0\n",
      "Height1:3\n",
      "Height2:4\n",
      "Breadth:45\n",
      "Perimeter formula: Height1+Height2+Breadth\n",
      "Perimeter of Triangle: 52\n"
     ]
    }
   ],
   "source": [
    "triangle()"
   ]
  },
  {
   "cell_type": "code",
   "execution_count": null,
   "id": "82dc52f2",
   "metadata": {},
   "outputs": [],
   "source": []
  },
  {
   "cell_type": "code",
   "execution_count": null,
   "id": "41ba101e",
   "metadata": {},
   "outputs": [],
   "source": []
  }
 ],
 "metadata": {
  "kernelspec": {
   "display_name": "Python 3 (ipykernel)",
   "language": "python",
   "name": "python3"
  },
  "language_info": {
   "codemirror_mode": {
    "name": "ipython",
    "version": 3
   },
   "file_extension": ".py",
   "mimetype": "text/x-python",
   "name": "python",
   "nbconvert_exporter": "python",
   "pygments_lexer": "ipython3",
   "version": "3.11.3"
  }
 },
 "nbformat": 4,
 "nbformat_minor": 5
}
