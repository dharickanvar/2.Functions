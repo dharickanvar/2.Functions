{
 "cells": [
  {
   "cell_type": "code",
   "execution_count": null,
   "id": "91561767",
   "metadata": {},
   "outputs": [],
   "source": []
  },
  {
   "cell_type": "code",
   "execution_count": 23,
   "id": "13cb50e9",
   "metadata": {},
   "outputs": [],
   "source": [
    "lists=[23,45,67,34,89]"
   ]
  },
  {
   "cell_type": "code",
   "execution_count": 46,
   "id": "d64af2df",
   "metadata": {},
   "outputs": [],
   "source": [
    "def agelimit():\n",
    " for age in lists:\n",
    "   if(age<18):\n",
    "    print(\"children\")\n",
    "   elif(age<35):\n",
    "    print(\"adult\")\n",
    "   elif(age<59):\n",
    "    print(\"citizen\")\n",
    "   else:\n",
    "    print(\"senior citizen\")"
   ]
  },
  {
   "cell_type": "code",
   "execution_count": 47,
   "id": "63583b85",
   "metadata": {},
   "outputs": [
    {
     "name": "stdout",
     "output_type": "stream",
     "text": [
      "adult\n",
      "citizen\n",
      "senior citizen\n",
      "adult\n",
      "senior citizen\n"
     ]
    }
   ],
   "source": [
    "agelimit()"
   ]
  },
  {
   "cell_type": "code",
   "execution_count": 82,
   "id": "59025291",
   "metadata": {},
   "outputs": [
    {
     "name": "stdout",
     "output_type": "stream",
     "text": [
      "enter the age:56\n"
     ]
    }
   ],
   "source": [
    "age = int(input(\"enter the age:\"))\n",
    "def agelimit():\n",
    "   if(age<18):\n",
    "    print(\"children\")\n",
    "    cate=\"children\"\n",
    "   elif(age<35):\n",
    "    print(\"adult\")\n",
    "    cate=\"adult\"\n",
    "   elif(age<59):\n",
    "    cate=\"citizen\"\n",
    "    print(\"citizen\")\n",
    "   else:\n",
    "    print(\"senior citizen\")\n",
    "    cate=\"senior citizen\"\n",
    "   return cate"
   ]
  },
  {
   "cell_type": "code",
   "execution_count": 83,
   "id": "db985cd7",
   "metadata": {},
   "outputs": [
    {
     "name": "stdout",
     "output_type": "stream",
     "text": [
      "citizen\n"
     ]
    },
    {
     "data": {
      "text/plain": [
       "'citizen'"
      ]
     },
     "execution_count": 83,
     "metadata": {},
     "output_type": "execute_result"
    }
   ],
   "source": [
    "agelimit()"
   ]
  },
  {
   "cell_type": "code",
   "execution_count": 86,
   "id": "6684e2b0",
   "metadata": {},
   "outputs": [
    {
     "name": "stdout",
     "output_type": "stream",
     "text": [
      "citizen\n"
     ]
    }
   ],
   "source": [
    "agecate=agelimit()"
   ]
  },
  {
   "cell_type": "code",
   "execution_count": 87,
   "id": "461efa1a",
   "metadata": {},
   "outputs": [],
   "source": [
    "def agelimit():\n",
    "   if(age<18):\n",
    "    print(\"children\")\n",
    "    cate=\"children\"\n",
    "   elif(age<35):\n",
    "    print(\"adult\")\n",
    "    cate=\"adult\"\n",
    "   elif(age<59):\n",
    "    cate=\"citizen\"\n",
    "    print(\"citizen\")\n",
    "   else:\n",
    "    print(\"senior citizen\")\n",
    "    cate=\"senior citizen\"\n",
    "   return cate"
   ]
  },
  {
   "cell_type": "code",
   "execution_count": 93,
   "id": "815e6372",
   "metadata": {},
   "outputs": [
    {
     "name": "stdout",
     "output_type": "stream",
     "text": [
      "enter the age:17\n",
      "children\n"
     ]
    }
   ],
   "source": [
    "age = int(input(\"enter the age:\"))\n",
    "cate=agelimit()"
   ]
  },
  {
   "cell_type": "code",
   "execution_count": 90,
   "id": "4035692c",
   "metadata": {},
   "outputs": [
    {
     "name": "stdout",
     "output_type": "stream",
     "text": [
      "adult\n"
     ]
    }
   ],
   "source": [
    "print(cate)"
   ]
  },
  {
   "cell_type": "code",
   "execution_count": 134,
   "id": "96ddd99e",
   "metadata": {},
   "outputs": [],
   "source": [
    "def oddoreven():\n",
    "  num =int(input(\"enter the number\"))\n",
    "  if((num%2)==1):\n",
    "    print(\"odd number\")\n",
    "    mess=\"odd number\"\n",
    "  else:\n",
    "    print(\"even number\")\n",
    "    mess=\"even number\"\n",
    "  return mess"
   ]
  },
  {
   "cell_type": "code",
   "execution_count": 137,
   "id": "b4e26464",
   "metadata": {},
   "outputs": [
    {
     "name": "stdout",
     "output_type": "stream",
     "text": [
      "enter the number18\n",
      "even number\n"
     ]
    }
   ],
   "source": [
    "mess=oddoreven()"
   ]
  },
  {
   "cell_type": "code",
   "execution_count": 152,
   "id": "47ee4ce4",
   "metadata": {},
   "outputs": [
    {
     "name": "stdout",
     "output_type": "stream",
     "text": [
      "enter the number:2\n",
      "even number\n"
     ]
    }
   ],
   "source": [
    "num=int(input(\"enter the number:\"))\n",
    "if((num%2)==1):\n",
    "    print(\"odd number\")\n",
    "    temp=\"odd number\"\n",
    "else:\n",
    "    print(\"even number\")\n",
    "    temp=\"even number\""
   ]
  },
  {
   "cell_type": "code",
   "execution_count": 153,
   "id": "e76a3dbf",
   "metadata": {},
   "outputs": [
    {
     "name": "stdout",
     "output_type": "stream",
     "text": [
      "Number is even\n"
     ]
    }
   ],
   "source": [
    "if(temp==\"odd number\"):\n",
    "    print(\"Number is odd\")\n",
    "else:\n",
    "    print(\"Number is even\")\n",
    "        "
   ]
  },
  {
   "cell_type": "code",
   "execution_count": 176,
   "id": "9b6b10ab",
   "metadata": {},
   "outputs": [],
   "source": [
    "def oddeven():\n",
    "    num=int(input(\"enter the number:\"))\n",
    "    if((num%2)==1):\n",
    "        print(\"odd number\")\n",
    "        message=\"odd number\"\n",
    "    else:\n",
    "        print(\"even number\")\n",
    "        message=\"even number\"\n",
    "    return message"
   ]
  },
  {
   "cell_type": "code",
   "execution_count": 184,
   "id": "43235e91",
   "metadata": {},
   "outputs": [
    {
     "name": "stdout",
     "output_type": "stream",
     "text": [
      "enter the number:2\n",
      "even number\n"
     ]
    }
   ],
   "source": [
    "message=oddeven()"
   ]
  },
  {
   "cell_type": "code",
   "execution_count": 185,
   "id": "fdd34099",
   "metadata": {},
   "outputs": [
    {
     "name": "stdout",
     "output_type": "stream",
     "text": [
      "The number is even\n"
     ]
    }
   ],
   "source": [
    "if(message==\"even number\"):\n",
    "    print(\"The number is even\")\n",
    "else:\n",
    "    print(\"The number is odd\")"
   ]
  },
  {
   "cell_type": "code",
   "execution_count": 191,
   "id": "6f5d3e88",
   "metadata": {},
   "outputs": [],
   "source": [
    "def BMI():\n",
    "    BMI=int(input(\"Enter the BMI Index:\"))\n",
    "    if(BMI<18.4):\n",
    "        print(\"Underweight\")\n",
    "        message=\"Underweight\"\n",
    "    elif(BMI<24.9):\n",
    "        print(\"Normal\")\n",
    "        message=\"Normal\"\n",
    "    elif(BMI<29.9):\n",
    "        print(\"Overweight\")\n",
    "        message=\"Overweight\"\n",
    "    else:\n",
    "        print(\"Very Overweight\")\n",
    "        message=\"Very Overweight\"\n",
    "    return message\n"
   ]
  },
  {
   "cell_type": "code",
   "execution_count": 192,
   "id": "0a6177fc",
   "metadata": {},
   "outputs": [
    {
     "name": "stdout",
     "output_type": "stream",
     "text": [
      "Enter the BMI Index:36\n",
      "Very Overweight\n"
     ]
    }
   ],
   "source": [
    "bmi=BMI()"
   ]
  },
  {
   "cell_type": "code",
   "execution_count": 199,
   "id": "571d3320",
   "metadata": {},
   "outputs": [],
   "source": [
    "def addition(num1,num2):\n",
    "    add=num1+num2\n",
    "    return add"
   ]
  },
  {
   "cell_type": "code",
   "execution_count": 200,
   "id": "4f491b11",
   "metadata": {},
   "outputs": [
    {
     "data": {
      "text/plain": [
       "9"
      ]
     },
     "execution_count": 200,
     "metadata": {},
     "output_type": "execute_result"
    }
   ],
   "source": [
    "addition(5,4)"
   ]
  },
  {
   "cell_type": "code",
   "execution_count": 207,
   "id": "aa97ea1f",
   "metadata": {},
   "outputs": [],
   "source": [
    "def subtraction(num1,num2):\n",
    "    sub=num1-num2\n",
    "    return sub"
   ]
  },
  {
   "cell_type": "code",
   "execution_count": 208,
   "id": "5cb00cac",
   "metadata": {},
   "outputs": [
    {
     "data": {
      "text/plain": [
       "1"
      ]
     },
     "execution_count": 208,
     "metadata": {},
     "output_type": "execute_result"
    }
   ],
   "source": [
    "subtraction(5,4)"
   ]
  },
  {
   "cell_type": "code",
   "execution_count": null,
   "id": "75ae5086",
   "metadata": {},
   "outputs": [],
   "source": []
  }
 ],
 "metadata": {
  "kernelspec": {
   "display_name": "Python 3 (ipykernel)",
   "language": "python",
   "name": "python3"
  },
  "language_info": {
   "codemirror_mode": {
    "name": "ipython",
    "version": 3
   },
   "file_extension": ".py",
   "mimetype": "text/x-python",
   "name": "python",
   "nbconvert_exporter": "python",
   "pygments_lexer": "ipython3",
   "version": "3.11.3"
  }
 },
 "nbformat": 4,
 "nbformat_minor": 5
}
